{
 "cells": [
  {
   "cell_type": "code",
   "execution_count": 1,
   "metadata": {},
   "outputs": [],
   "source": [
    "from selenium import webdriver\n",
    "import time\n",
    "from selenium.webdriver.support.ui import Select\n",
    "from selenium.webdriver.common.by import By\n",
    "from selenium.webdriver.chrome.options import Options\n",
    "from selenium.webdriver.support.wait import WebDriverWait\n",
    "from selenium.webdriver.support import expected_conditions as EC\n"
   ]
  },
  {
   "cell_type": "code",
   "execution_count": 2,
   "metadata": {},
   "outputs": [],
   "source": [
    "chrome_options = Options()\n",
    "chrome_options.page_load_strategy = 'none'\n",
    "driver = webdriver.Chrome(options=chrome_options)\n",
    "\n",
    "# test url\n",
    "# driver.get('https://www.habitselect.com/zh-hant/products/goopimade%C2%AE-x-syndro-arctic-cowboy%E2%80%9D-reversible-ranch-parka-black-raw-denim')\n",
    "\n",
    "# black\n",
    "# driver.get('https://www.habitselect.com/products/goopimade%C2%AE-x-wildthings-2-layers-tactical-jacket-black')\n",
    "\n",
    "# gray\n",
    "driver.get('https://www.habitselect.com/products/goopimade%C2%AE-x-wildthings-2-layers-tactical-jacket-l-gray')"
   ]
  },
  {
   "cell_type": "code",
   "execution_count": 80,
   "metadata": {},
   "outputs": [],
   "source": [
    "# login \n",
    "driver.find_element(   \n",
    "    \"xpath\", '//*[@id=\"fixed-menu-container\"]/div[2]/a[3]').click()\n",
    "\n",
    "acc = WebDriverWait(driver, 10).until( EC.presence_of_element_located((By.NAME, \"mobile_phone_or_email\")) ) \n",
    "pw = WebDriverWait(driver, 10).until( EC.presence_of_element_located((By.XPATH, \"/html/body/div[8]/div[1]/div/div/div/div/div/div/div/div/div[2]/div/div/div/form/div[2]/div/div/input\")) ) \n",
    "\n",
    "acc.send_keys('stannyho913@gmail.com')\n",
    "pw.send_keys('SSSsss880913')\n",
    "\n",
    "driver.find_element(\"xpath\", '//*[@id=\"sign-in-recaptcha\"]').click()"
   ]
  },
  {
   "cell_type": "code",
   "execution_count": 82,
   "metadata": {},
   "outputs": [
    {
     "name": "stdout",
     "output_type": "stream",
     "text": [
      "go into try\n",
      "size selected\n",
      "已點擊立即購買！\n"
     ]
    },
    {
     "ename": "TimeoutException",
     "evalue": "Message: \nStacktrace:\n#0 0x55e8b2b9b2a3 <unknown>\n#1 0x55e8b2959f77 <unknown>\n#2 0x55e8b299680c <unknown>\n#3 0x55e8b2996a71 <unknown>\n#4 0x55e8b29d0734 <unknown>\n#5 0x55e8b29b6b5d <unknown>\n#6 0x55e8b29ce47c <unknown>\n#7 0x55e8b29b6903 <unknown>\n#8 0x55e8b2989ece <unknown>\n#9 0x55e8b298afde <unknown>\n#10 0x55e8b2beb63e <unknown>\n#11 0x55e8b2beeb79 <unknown>\n#12 0x55e8b2bd189e <unknown>\n#13 0x55e8b2befa83 <unknown>\n#14 0x55e8b2bc4505 <unknown>\n#15 0x55e8b2c10ca8 <unknown>\n#16 0x55e8b2c10e36 <unknown>\n#17 0x55e8b2c2c333 <unknown>\n#18 0x7f35b4c5c609 start_thread\n",
     "output_type": "error",
     "traceback": [
      "\u001b[0;31m---------------------------------------------------------------------------\u001b[0m",
      "\u001b[0;31mTimeoutException\u001b[0m                          Traceback (most recent call last)",
      "Cell \u001b[0;32mIn[82], line 28\u001b[0m\n\u001b[1;32m     25\u001b[0m         driver\u001b[39m.\u001b[39mrefresh()\n\u001b[1;32m     27\u001b[0m \u001b[39m# select delivery way\u001b[39;00m\n\u001b[0;32m---> 28\u001b[0m delivery \u001b[39m=\u001b[39m WebDriverWait(driver, \u001b[39m10\u001b[39;49m)\u001b[39m.\u001b[39;49muntil(\n\u001b[1;32m     29\u001b[0m     EC\u001b[39m.\u001b[39;49melement_to_be_clickable((By\u001b[39m.\u001b[39;49mID, \u001b[39m\"\u001b[39;49m\u001b[39morder-delivery-method\u001b[39;49m\u001b[39m\"\u001b[39;49m)))\n\u001b[1;32m     30\u001b[0m Select(driver\u001b[39m.\u001b[39mfind_element(\u001b[39m\"\u001b[39m\u001b[39mid\u001b[39m\u001b[39m\"\u001b[39m, \u001b[39m'\u001b[39m\u001b[39morder-delivery-method\u001b[39m\u001b[39m'\u001b[39m))\u001b[39m.\u001b[39mselect_by_index(\u001b[39m2\u001b[39m)\n\u001b[1;32m     31\u001b[0m \u001b[39mprint\u001b[39m(\u001b[39m\"\u001b[39m\u001b[39mchoosed delivery way\u001b[39m\u001b[39m\"\u001b[39m)\n",
      "File \u001b[0;32m~/anaconda3/envs/yoloV4/lib/python3.9/site-packages/selenium/webdriver/support/wait.py:95\u001b[0m, in \u001b[0;36mWebDriverWait.until\u001b[0;34m(self, method, message)\u001b[0m\n\u001b[1;32m     93\u001b[0m     \u001b[39mif\u001b[39;00m time\u001b[39m.\u001b[39mmonotonic() \u001b[39m>\u001b[39m end_time:\n\u001b[1;32m     94\u001b[0m         \u001b[39mbreak\u001b[39;00m\n\u001b[0;32m---> 95\u001b[0m \u001b[39mraise\u001b[39;00m TimeoutException(message, screen, stacktrace)\n",
      "\u001b[0;31mTimeoutException\u001b[0m: Message: \nStacktrace:\n#0 0x55e8b2b9b2a3 <unknown>\n#1 0x55e8b2959f77 <unknown>\n#2 0x55e8b299680c <unknown>\n#3 0x55e8b2996a71 <unknown>\n#4 0x55e8b29d0734 <unknown>\n#5 0x55e8b29b6b5d <unknown>\n#6 0x55e8b29ce47c <unknown>\n#7 0x55e8b29b6903 <unknown>\n#8 0x55e8b2989ece <unknown>\n#9 0x55e8b298afde <unknown>\n#10 0x55e8b2beb63e <unknown>\n#11 0x55e8b2beeb79 <unknown>\n#12 0x55e8b2bd189e <unknown>\n#13 0x55e8b2befa83 <unknown>\n#14 0x55e8b2bc4505 <unknown>\n#15 0x55e8b2c10ca8 <unknown>\n#16 0x55e8b2c10e36 <unknown>\n#17 0x55e8b2c2c333 <unknown>\n#18 0x7f35b4c5c609 start_thread\n"
     ]
    }
   ],
   "source": [
    "# before sell refresh web , when selling will click buy\n",
    "while 1:\n",
    "    try:\n",
    "        print(\"go into try\")\n",
    "\n",
    "        # with ai選尺寸\n",
    "        # select_size = Select(driver.find_element(\n",
    "        # \"xpath\", '/html/body/div[8]/div[1]/div/div/div/div[2]/div[3]/div[2]/div[3]/div[2]/div[2]/select'))\n",
    "\n",
    "        # without ai選尺寸\n",
    "        # select_size = Select(driver.find_element(\n",
    "        #     \"xpath\", '/html/body/div[8]/div[1]/div/div/div/div[2]/div[3]/div[2]/div[3]/div[1]/div[2]/select'))\n",
    "\n",
    "        size = WebDriverWait(driver, 10).until(EC.element_to_be_clickable(\n",
    "            (By.XPATH, \"/html/body/div[8]/div[1]/div/div/div/div[2]/div[3]/div[2]/div[3]/div[2]/div[2]/select\")))\n",
    "        Select(driver.find_element(\n",
    "            \"xpath\", '/html/body/div[8]/div[1]/div/div/div/div[2]/div[3]/div[2]/div[3]/div[2]/div[2]/select')).select_by_index(1)\n",
    "        print(\"size selected\")\n",
    "        driver.find_element(\n",
    "            \"xpath\", '//*[@id=\"#btn-variable-buy-now\"]/div/span').click()\n",
    "        print(\"已點擊立即購買！\")\n",
    "        break\n",
    "    except:\n",
    "        print(\"not sell yet!!!\")\n",
    "        driver.refresh()\n",
    "\n",
    "# select delivery way\n",
    "delivery = WebDriverWait(driver, 10).until(\n",
    "    EC.element_to_be_clickable((By.ID, \"order-delivery-method\")))\n",
    "Select(driver.find_element(\"id\", 'order-delivery-method')).select_by_index(2)\n",
    "print(\"choosed delivery way\")\n",
    "\n",
    "driver.find_element(\n",
    "    \"xpath\", '//*[@id=\"checkout-container\"]/div/div[3]/div[4]/div[2]/section/div[2]/a').click()\n",
    "\n",
    "# check policy\n",
    "policy = WebDriverWait(driver, 10).until(\n",
    "    EC.element_to_be_clickable((By.NAME, \"policy\")))\n",
    "policy.click()\n",
    "print(\"checked policy\")\n",
    "# TODO 結帳時打開\n",
    "# Final order\n",
    "# driver.find_element(\"xpath\", '//*[@id=\"place-order-recaptcha\"]/span[1]').click()\n",
    "final = WebDriverWait(driver,10).until(EC.element_to_be_clickable((By.ID,\"place-order-recaptcha\")))\n",
    "final.click()\n",
    "print(\"購買完成!!!!\")"
   ]
  },
  {
   "cell_type": "code",
   "execution_count": null,
   "metadata": {},
   "outputs": [],
   "source": []
  }
 ],
 "metadata": {
  "kernelspec": {
   "display_name": "yoloV4",
   "language": "python",
   "name": "python3"
  },
  "language_info": {
   "codemirror_mode": {
    "name": "ipython",
    "version": 3
   },
   "file_extension": ".py",
   "mimetype": "text/x-python",
   "name": "python",
   "nbconvert_exporter": "python",
   "pygments_lexer": "ipython3",
   "version": "3.9.15 (main, Nov  4 2022, 16:13:54) \n[GCC 11.2.0]"
  },
  "orig_nbformat": 4,
  "vscode": {
   "interpreter": {
    "hash": "54e5817d351ae5ce3f35b114a01b54515a23947ab9572f2654c128a87fb8a9f5"
   }
  }
 },
 "nbformat": 4,
 "nbformat_minor": 2
}
