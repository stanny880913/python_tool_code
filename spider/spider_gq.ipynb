{
 "cells": [],
 "metadata": {
  "kernelspec": {
   "display_name": "yoloV4",
   "language": "python",
   "name": "python3"
  },
  "language_info": {
   "codemirror_mode": {
    "name": "ipython",
    "version": 3
   },
   "file_extension": ".py",
   "mimetype": "text/x-python",
   "name": "python",
   "nbconvert_exporter": "python",
   "pygments_lexer": "ipython3",
   "version": "3.9.15 (main, Nov  4 2022, 16:13:54) \n[GCC 11.2.0]"
  },
  "orig_nbformat": 4,
  "vscode": {
   "interpreter": {
    "hash": "54e5817d351ae5ce3f35b114a01b54515a23947ab9572f2654c128a87fb8a9f5"
   }
  }
 },
 "nbformat": 4,
 "nbformat_minor": 2
}
