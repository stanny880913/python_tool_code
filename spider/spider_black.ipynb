{
 "cells": [
  {
   "cell_type": "code",
   "execution_count": 78,
   "metadata": {},
   "outputs": [],
   "source": [
    "from selenium import webdriver\n",
    "import time\n",
    "from selenium.webdriver.support.ui import Select\n",
    "from selenium.webdriver.common.by import By\n",
    "from selenium.webdriver.chrome.options import Options\n",
    "from selenium.webdriver.support.wait import WebDriverWait\n",
    "from selenium.webdriver.support import expected_conditions as EC\n"
   ]
  },
  {
   "cell_type": "code",
   "execution_count": 79,
   "metadata": {},
   "outputs": [],
   "source": [
    "chrome_options = Options()\n",
    "chrome_options.page_load_strategy = 'none'\n",
    "driver = webdriver.Chrome(options=chrome_options)\n",
    "\n",
    "# test url\n",
    "# driver.get('https://www.habitselect.com/zh-hant/products/goopimade%C2%AE-x-syndro-arctic-cowboy%E2%80%9D-reversible-ranch-parka-black-raw-denim')\n",
    "\n",
    "# black\n",
    "driver.get('https://www.habitselect.com/products/goopimade%C2%AE-x-wildthings-2-layers-tactical-jacket-black')\n",
    "\n",
    "# gray\n",
    "# driver.get('https://www.habitselect.com/products/goopimade%C2%AE-x-wildthings-2-layers-tactical-jacket-l-gray')"
   ]
  },
  {
   "cell_type": "code",
   "execution_count": 80,
   "metadata": {},
   "outputs": [],
   "source": [
    "# login \n",
    "driver.find_element(   \n",
    "    \"xpath\", '//*[@id=\"fixed-menu-container\"]/div[2]/a[3]').click()\n",
    "\n",
    "acc = WebDriverWait(driver, 10).until( EC.presence_of_element_located((By.NAME, \"mobile_phone_or_email\")) ) \n",
    "pw = WebDriverWait(driver, 10).until( EC.presence_of_element_located((By.XPATH, \"/html/body/div[8]/div[1]/div/div/div/div/div/div/div/div/div[2]/div/div/div/form/div[2]/div/div/input\")) ) \n",
    "\n",
    "acc.send_keys('stanny0913ho@gmail.com')\n",
    "pw.send_keys('SSSsss880913')\n",
    "\n",
    "driver.find_element(\"xpath\", '//*[@id=\"sign-in-recaptcha\"]').click()\n"
   ]
  },
  {
   "cell_type": "code",
   "execution_count": 81,
   "metadata": {},
   "outputs": [
    {
     "name": "stdout",
     "output_type": "stream",
     "text": [
      "go into try\n",
      "not sell yet!!!\n",
      "go into try\n",
      "not sell yet!!!\n",
      "go into try\n",
      "not sell yet!!!\n",
      "go into try\n",
      "not sell yet!!!\n",
      "go into try\n",
      "not sell yet!!!\n",
      "go into try\n",
      "not sell yet!!!\n",
      "go into try\n",
      "not sell yet!!!\n"
     ]
    },
    {
     "ename": "NoSuchWindowException",
     "evalue": "Message: no such window: target window already closed\nfrom unknown error: web view not found\n  (Session info: chrome=108.0.5359.124)\nStacktrace:\n#0 0x558bf5fdc2a3 <unknown>\n#1 0x558bf5d9af77 <unknown>\n#2 0x558bf5d76515 <unknown>\n#3 0x558bf5dfbfff <unknown>\n#4 0x558bf5e0ee43 <unknown>\n#5 0x558bf5df7903 <unknown>\n#6 0x558bf5dcaece <unknown>\n#7 0x558bf5dcbfde <unknown>\n#8 0x558bf602c63e <unknown>\n#9 0x558bf602fb79 <unknown>\n#10 0x558bf601289e <unknown>\n#11 0x558bf6030a83 <unknown>\n#12 0x558bf6005505 <unknown>\n#13 0x558bf6051ca8 <unknown>\n#14 0x558bf6051e36 <unknown>\n#15 0x558bf606d333 <unknown>\n#16 0x7f01085a4609 start_thread\n",
     "output_type": "error",
     "traceback": [
      "\u001b[0;31m---------------------------------------------------------------------------\u001b[0m",
      "\u001b[0;31mNoSuchWindowException\u001b[0m                     Traceback (most recent call last)",
      "Cell \u001b[0;32mIn[81], line 14\u001b[0m\n\u001b[1;32m      6\u001b[0m \u001b[39m# with ai選尺寸\u001b[39;00m\n\u001b[1;32m      7\u001b[0m \u001b[39m# select_size = Select(driver.find_element(\u001b[39;00m\n\u001b[1;32m      8\u001b[0m \u001b[39m# \"xpath\", '/html/body/div[8]/div[1]/div/div/div/div[2]/div[3]/div[2]/div[3]/div[2]/div[2]/select'))\u001b[39;00m\n\u001b[0;32m   (...)\u001b[0m\n\u001b[1;32m     11\u001b[0m \u001b[39m# select_size = Select(driver.find_element(\u001b[39;00m\n\u001b[1;32m     12\u001b[0m \u001b[39m#     \"xpath\", '/html/body/div[8]/div[1]/div/div/div/div[2]/div[3]/div[2]/div[3]/div[1]/div[2]/select'))\u001b[39;00m\n\u001b[0;32m---> 14\u001b[0m size \u001b[39m=\u001b[39m WebDriverWait(driver, \u001b[39m10\u001b[39;49m)\u001b[39m.\u001b[39;49muntil(EC\u001b[39m.\u001b[39;49melement_to_be_clickable(\n\u001b[1;32m     15\u001b[0m     (By\u001b[39m.\u001b[39;49mXPATH, \u001b[39m\"\u001b[39;49m\u001b[39m/html/body/div[8]/div[1]/div/div/div/div[2]/div[3]/div[2]/div[3]/div[1]/div[2]/select\u001b[39;49m\u001b[39m\"\u001b[39;49m)))\n\u001b[1;32m     16\u001b[0m Select(driver\u001b[39m.\u001b[39mfind_element(\n\u001b[1;32m     17\u001b[0m     \u001b[39m\"\u001b[39m\u001b[39mxpath\u001b[39m\u001b[39m\"\u001b[39m, \u001b[39m'\u001b[39m\u001b[39m/html/body/div[8]/div[1]/div/div/div/div[2]/div[3]/div[2]/div[3]/div[1]/div[2]/select\u001b[39m\u001b[39m'\u001b[39m))\u001b[39m.\u001b[39mselect_by_index(\u001b[39m1\u001b[39m)\n",
      "File \u001b[0;32m~/anaconda3/envs/yoloV4/lib/python3.9/site-packages/selenium/webdriver/support/wait.py:86\u001b[0m, in \u001b[0;36mWebDriverWait.until\u001b[0;34m(self, method, message)\u001b[0m\n\u001b[1;32m     85\u001b[0m \u001b[39mtry\u001b[39;00m:\n\u001b[0;32m---> 86\u001b[0m     value \u001b[39m=\u001b[39m method(\u001b[39mself\u001b[39;49m\u001b[39m.\u001b[39;49m_driver)\n\u001b[1;32m     87\u001b[0m     \u001b[39mif\u001b[39;00m value:\n",
      "File \u001b[0;32m~/anaconda3/envs/yoloV4/lib/python3.9/site-packages/selenium/webdriver/support/expected_conditions.py:312\u001b[0m, in \u001b[0;36melement_to_be_clickable.<locals>._predicate\u001b[0;34m(driver)\u001b[0m\n\u001b[1;32m    311\u001b[0m \u001b[39mif\u001b[39;00m \u001b[39mnot\u001b[39;00m \u001b[39misinstance\u001b[39m(target, WebElement):  \u001b[39m# if given locator instead of WebElement\u001b[39;00m\n\u001b[0;32m--> 312\u001b[0m     target \u001b[39m=\u001b[39m driver\u001b[39m.\u001b[39;49mfind_element(\u001b[39m*\u001b[39;49mtarget)  \u001b[39m# grab element at locator\u001b[39;00m\n\u001b[1;32m    313\u001b[0m target \u001b[39m=\u001b[39m visibility_of(target)(driver)\n",
      "File \u001b[0;32m~/anaconda3/envs/yoloV4/lib/python3.9/site-packages/selenium/webdriver/remote/webdriver.py:861\u001b[0m, in \u001b[0;36mWebDriver.find_element\u001b[0;34m(self, by, value)\u001b[0m\n\u001b[1;32m    859\u001b[0m     value \u001b[39m=\u001b[39m \u001b[39m'\u001b[39m\u001b[39m[name=\u001b[39m\u001b[39m\"\u001b[39m\u001b[39m%s\u001b[39;00m\u001b[39m\"\u001b[39m\u001b[39m]\u001b[39m\u001b[39m'\u001b[39m \u001b[39m%\u001b[39m value\n\u001b[0;32m--> 861\u001b[0m \u001b[39mreturn\u001b[39;00m \u001b[39mself\u001b[39;49m\u001b[39m.\u001b[39;49mexecute(Command\u001b[39m.\u001b[39;49mFIND_ELEMENT, {\u001b[39m\"\u001b[39;49m\u001b[39musing\u001b[39;49m\u001b[39m\"\u001b[39;49m: by, \u001b[39m\"\u001b[39;49m\u001b[39mvalue\u001b[39;49m\u001b[39m\"\u001b[39;49m: value})[\u001b[39m\"\u001b[39m\u001b[39mvalue\u001b[39m\u001b[39m\"\u001b[39m]\n",
      "File \u001b[0;32m~/anaconda3/envs/yoloV4/lib/python3.9/site-packages/selenium/webdriver/remote/webdriver.py:444\u001b[0m, in \u001b[0;36mWebDriver.execute\u001b[0;34m(self, driver_command, params)\u001b[0m\n\u001b[1;32m    443\u001b[0m \u001b[39mif\u001b[39;00m response:\n\u001b[0;32m--> 444\u001b[0m     \u001b[39mself\u001b[39;49m\u001b[39m.\u001b[39;49merror_handler\u001b[39m.\u001b[39;49mcheck_response(response)\n\u001b[1;32m    445\u001b[0m     response[\u001b[39m\"\u001b[39m\u001b[39mvalue\u001b[39m\u001b[39m\"\u001b[39m] \u001b[39m=\u001b[39m \u001b[39mself\u001b[39m\u001b[39m.\u001b[39m_unwrap_value(response\u001b[39m.\u001b[39mget(\u001b[39m\"\u001b[39m\u001b[39mvalue\u001b[39m\u001b[39m\"\u001b[39m, \u001b[39mNone\u001b[39;00m))\n",
      "File \u001b[0;32m~/anaconda3/envs/yoloV4/lib/python3.9/site-packages/selenium/webdriver/remote/errorhandler.py:249\u001b[0m, in \u001b[0;36mErrorHandler.check_response\u001b[0;34m(self, response)\u001b[0m\n\u001b[1;32m    248\u001b[0m     \u001b[39mraise\u001b[39;00m exception_class(message, screen, stacktrace, alert_text)  \u001b[39m# type: ignore[call-arg]  # mypy is not smart enough here\u001b[39;00m\n\u001b[0;32m--> 249\u001b[0m \u001b[39mraise\u001b[39;00m exception_class(message, screen, stacktrace)\n",
      "\u001b[0;31mNoSuchWindowException\u001b[0m: Message: no such window: target window already closed\nfrom unknown error: web view not found\n  (Session info: chrome=108.0.5359.124)\nStacktrace:\n#0 0x558bf5fdc2a3 <unknown>\n#1 0x558bf5d9af77 <unknown>\n#2 0x558bf5d76515 <unknown>\n#3 0x558bf5dfbfff <unknown>\n#4 0x558bf5e0ee43 <unknown>\n#5 0x558bf5df7903 <unknown>\n#6 0x558bf5dcaece <unknown>\n#7 0x558bf5dcbfde <unknown>\n#8 0x558bf602c63e <unknown>\n#9 0x558bf602fb79 <unknown>\n#10 0x558bf601289e <unknown>\n#11 0x558bf6030a83 <unknown>\n#12 0x558bf6005505 <unknown>\n#13 0x558bf6051ca8 <unknown>\n#14 0x558bf6051e36 <unknown>\n#15 0x558bf606d333 <unknown>\n#16 0x7f01085a4609 start_thread\n",
      "\nDuring handling of the above exception, another exception occurred:\n",
      "\u001b[0;31mNoSuchWindowException\u001b[0m                     Traceback (most recent call last)",
      "Cell \u001b[0;32mIn[81], line 25\u001b[0m\n\u001b[1;32m     23\u001b[0m     \u001b[39mexcept\u001b[39;00m:\n\u001b[1;32m     24\u001b[0m         \u001b[39mprint\u001b[39m(\u001b[39m\"\u001b[39m\u001b[39mnot sell yet!!!\u001b[39m\u001b[39m\"\u001b[39m)\n\u001b[0;32m---> 25\u001b[0m         driver\u001b[39m.\u001b[39;49mrefresh()\n\u001b[1;32m     27\u001b[0m \u001b[39m# select delivery way\u001b[39;00m\n\u001b[1;32m     28\u001b[0m delivery \u001b[39m=\u001b[39m WebDriverWait(driver, \u001b[39m10\u001b[39m)\u001b[39m.\u001b[39muntil(\n\u001b[1;32m     29\u001b[0m     EC\u001b[39m.\u001b[39melement_to_be_clickable((By\u001b[39m.\u001b[39mID, \u001b[39m\"\u001b[39m\u001b[39morder-delivery-method\u001b[39m\u001b[39m\"\u001b[39m)))\n",
      "File \u001b[0;32m~/anaconda3/envs/yoloV4/lib/python3.9/site-packages/selenium/webdriver/remote/webdriver.py:684\u001b[0m, in \u001b[0;36mWebDriver.refresh\u001b[0;34m(self)\u001b[0m\n\u001b[1;32m    675\u001b[0m \u001b[39mdef\u001b[39;00m \u001b[39mrefresh\u001b[39m(\u001b[39mself\u001b[39m) \u001b[39m-\u001b[39m\u001b[39m>\u001b[39m \u001b[39mNone\u001b[39;00m:\n\u001b[1;32m    676\u001b[0m     \u001b[39m\"\"\"\u001b[39;00m\n\u001b[1;32m    677\u001b[0m \u001b[39m    Refreshes the current page.\u001b[39;00m\n\u001b[1;32m    678\u001b[0m \n\u001b[0;32m   (...)\u001b[0m\n\u001b[1;32m    682\u001b[0m \u001b[39m            driver.refresh()\u001b[39;00m\n\u001b[1;32m    683\u001b[0m \u001b[39m    \"\"\"\u001b[39;00m\n\u001b[0;32m--> 684\u001b[0m     \u001b[39mself\u001b[39;49m\u001b[39m.\u001b[39;49mexecute(Command\u001b[39m.\u001b[39;49mREFRESH)\n",
      "File \u001b[0;32m~/anaconda3/envs/yoloV4/lib/python3.9/site-packages/selenium/webdriver/remote/webdriver.py:444\u001b[0m, in \u001b[0;36mWebDriver.execute\u001b[0;34m(self, driver_command, params)\u001b[0m\n\u001b[1;32m    442\u001b[0m response \u001b[39m=\u001b[39m \u001b[39mself\u001b[39m\u001b[39m.\u001b[39mcommand_executor\u001b[39m.\u001b[39mexecute(driver_command, params)\n\u001b[1;32m    443\u001b[0m \u001b[39mif\u001b[39;00m response:\n\u001b[0;32m--> 444\u001b[0m     \u001b[39mself\u001b[39;49m\u001b[39m.\u001b[39;49merror_handler\u001b[39m.\u001b[39;49mcheck_response(response)\n\u001b[1;32m    445\u001b[0m     response[\u001b[39m\"\u001b[39m\u001b[39mvalue\u001b[39m\u001b[39m\"\u001b[39m] \u001b[39m=\u001b[39m \u001b[39mself\u001b[39m\u001b[39m.\u001b[39m_unwrap_value(response\u001b[39m.\u001b[39mget(\u001b[39m\"\u001b[39m\u001b[39mvalue\u001b[39m\u001b[39m\"\u001b[39m, \u001b[39mNone\u001b[39;00m))\n\u001b[1;32m    446\u001b[0m     \u001b[39mreturn\u001b[39;00m response\n",
      "File \u001b[0;32m~/anaconda3/envs/yoloV4/lib/python3.9/site-packages/selenium/webdriver/remote/errorhandler.py:249\u001b[0m, in \u001b[0;36mErrorHandler.check_response\u001b[0;34m(self, response)\u001b[0m\n\u001b[1;32m    247\u001b[0m         alert_text \u001b[39m=\u001b[39m value[\u001b[39m\"\u001b[39m\u001b[39malert\u001b[39m\u001b[39m\"\u001b[39m]\u001b[39m.\u001b[39mget(\u001b[39m\"\u001b[39m\u001b[39mtext\u001b[39m\u001b[39m\"\u001b[39m)\n\u001b[1;32m    248\u001b[0m     \u001b[39mraise\u001b[39;00m exception_class(message, screen, stacktrace, alert_text)  \u001b[39m# type: ignore[call-arg]  # mypy is not smart enough here\u001b[39;00m\n\u001b[0;32m--> 249\u001b[0m \u001b[39mraise\u001b[39;00m exception_class(message, screen, stacktrace)\n",
      "\u001b[0;31mNoSuchWindowException\u001b[0m: Message: no such window: target window already closed\nfrom unknown error: web view not found\n  (Session info: chrome=108.0.5359.124)\nStacktrace:\n#0 0x558bf5fdc2a3 <unknown>\n#1 0x558bf5d9af77 <unknown>\n#2 0x558bf5d76515 <unknown>\n#3 0x558bf5dfbfff <unknown>\n#4 0x558bf5e0ee43 <unknown>\n#5 0x558bf5df7903 <unknown>\n#6 0x558bf5dcaece <unknown>\n#7 0x558bf5dcbfde <unknown>\n#8 0x558bf602c63e <unknown>\n#9 0x558bf602fb79 <unknown>\n#10 0x558bf601289e <unknown>\n#11 0x558bf6030a83 <unknown>\n#12 0x558bf6005505 <unknown>\n#13 0x558bf6051ca8 <unknown>\n#14 0x558bf6051e36 <unknown>\n#15 0x558bf606d333 <unknown>\n#16 0x7f01085a4609 start_thread\n"
     ]
    }
   ],
   "source": [
    "# before sell refresh web , when selling will click buy\n",
    "while 1:\n",
    "    try:\n",
    "        print(\"go into try\")\n",
    "\n",
    "        # with ai選尺寸\n",
    "        # select_size = Select(driver.find_element(\n",
    "        # \"xpath\", '/html/body/div[8]/div[1]/div/div/div/div[2]/div[3]/div[2]/div[3]/div[2]/div[2]/select'))\n",
    "\n",
    "        # without ai選尺寸\n",
    "        # select_size = Select(driver.find_element(\n",
    "        #     \"xpath\", '/html/body/div[8]/div[1]/div/div/div/div[2]/div[3]/div[2]/div[3]/div[1]/div[2]/select'))\n",
    "\n",
    "        size = WebDriverWait(driver, 10).until(EC.element_to_be_clickable(\n",
    "            (By.XPATH, \"/html/body/div[8]/div[1]/div/div/div/div[2]/div[3]/div[2]/div[3]/div[1]/div[2]/select\")))\n",
    "        Select(driver.find_element(\n",
    "            \"xpath\", '/html/body/div[8]/div[1]/div/div/div/div[2]/div[3]/div[2]/div[3]/div[1]/div[2]/select')).select_by_index(1)\n",
    "        print(\"size selected\")\n",
    "        driver.find_element(\n",
    "            \"xpath\", '//*[@id=\"#btn-variable-buy-now\"]/div/span').click()\n",
    "        print(\"已點擊立即購買！\")\n",
    "        break\n",
    "    except:\n",
    "        print(\"not sell yet!!!\")\n",
    "        driver.refresh()\n",
    "\n",
    "# select delivery way\n",
    "delivery = WebDriverWait(driver, 10).until(\n",
    "    EC.element_to_be_clickable((By.ID, \"order-delivery-method\")))\n",
    "Select(driver.find_element(\"id\", 'order-delivery-method')).select_by_index(2)\n",
    "print(\"choosed delivery way\")\n",
    "\n",
    "driver.find_element(\n",
    "    \"xpath\", '//*[@id=\"checkout-container\"]/div/div[3]/div[4]/div[2]/section/div[2]/a').click()\n",
    "\n",
    "# check policy\n",
    "policy = WebDriverWait(driver, 10).until(\n",
    "    EC.element_to_be_clickable((By.NAME, \"policy\")))\n",
    "policy.click()\n",
    "# TODO 結帳時打開\n",
    "# Final order\n",
    "# driver.find_element(\"xpath\", '//*[@id=\"place-order-recaptcha\"]/span[1]').click()\n",
    "final = WebDriverWait(driver,10).until(EC.element_to_be_clickable((By.ID,\"place-order-recaptcha\")))\n",
    "final.click()\n",
    "print(\"購買完成!!!!\")"
   ]
  },
  {
   "cell_type": "code",
   "execution_count": null,
   "metadata": {},
   "outputs": [],
   "source": []
  }
 ],
 "metadata": {
  "kernelspec": {
   "display_name": "yoloV4",
   "language": "python",
   "name": "python3"
  },
  "language_info": {
   "codemirror_mode": {
    "name": "ipython",
    "version": 3
   },
   "file_extension": ".py",
   "mimetype": "text/x-python",
   "name": "python",
   "nbconvert_exporter": "python",
   "pygments_lexer": "ipython3",
   "version": "3.9.15 (main, Nov  4 2022, 16:13:54) \n[GCC 11.2.0]"
  },
  "orig_nbformat": 4,
  "vscode": {
   "interpreter": {
    "hash": "54e5817d351ae5ce3f35b114a01b54515a23947ab9572f2654c128a87fb8a9f5"
   }
  }
 },
 "nbformat": 4,
 "nbformat_minor": 2
}
