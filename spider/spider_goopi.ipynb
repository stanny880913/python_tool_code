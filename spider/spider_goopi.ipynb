{
 "cells": [
  {
   "cell_type": "code",
   "execution_count": null,
   "metadata": {},
   "outputs": [],
   "source": [
    "from selenium import webdriver\n",
    "import time\n",
    "from selenium.webdriver.support.ui import Select\n",
    "from selenium.webdriver.common.by import By\n",
    "from selenium.webdriver.chrome.options import Options\n",
    "from selenium.webdriver.support.wait import WebDriverWait\n",
    "from selenium.webdriver.support import expected_conditions as EC\n"
   ]
  },
  {
   "cell_type": "code",
   "execution_count": null,
   "metadata": {},
   "outputs": [],
   "source": [
    "chrome_options = Options()\n",
    "chrome_options.page_load_strategy = 'none'\n",
    "driver = webdriver.Chrome(options=chrome_options)\n",
    "\n",
    "# good url\n",
    "driver.get('https://www.goopi.co/products/gnv-13%E2%80%9D-softbox-wide-pocket-shirt-taupe')\n"
   ]
  },
  {
   "cell_type": "code",
   "execution_count": null,
   "metadata": {},
   "outputs": [],
   "source": [
    "# before sell refresh web , when selling will click buy\n",
    "while 1:\n",
    "    try:\n",
    "        print(\"go into try\")\n",
    "\n",
    "        # with ai選尺寸\n",
    "        # select_size = Select(driver.find_element(\n",
    "        # \"xpath\", '/html/body/div[8]/div[1]/div/div/div/div[2]/div[3]/div[2]/div[3]/div[2]/div[2]/select'))\n",
    "\n",
    "        # without ai選尺寸\n",
    "        # select_size = Select(driver.find_element(\n",
    "        #     \"xpath\", '/html/body/div[8]/div[1]/div/div/div/div[2]/div[3]/div[2]/div[3]/div[1]/div[2]/select'))\n",
    "\n",
    "        size = WebDriverWait(driver, 10).until(EC.element_to_be_clickable(\n",
    "            (By.XPATH, \"/html/body/div[8]/div[1]/div/div/div/div[2]/div[3]/div[2]/div[3]/div[1]/div[2]/select\")))\n",
    "        Select(driver.find_element(\n",
    "            \"xpath\", '/html/body/div[8]/div[1]/div/div/div/div[2]/div[3]/div[2]/div[3]/div[1]/div[2]/select')).select_by_index(1)\n",
    "        print(\"size selected\")\n",
    "        driver.find_element(\n",
    "            \"xpath\", '//*[@id=\"#btn-variable-buy-now\"]').click()\n",
    "        print(\"已點擊立即購買！\")\n",
    "        break\n",
    "    except:\n",
    "        print(\"not sell yet!!!\")\n",
    "        driver.refresh()\n",
    "\n",
    "\n",
    "buy = WebDriverWait(driver, 10).until(\n",
    "    EC.element_to_be_clickable((By.XPATH, \"//*[@id='checkout-container']/div/div[3]/div[4]/div[2]/section/div[2]/a\")))\n",
    "buy.click()\n",
    "\n",
    "\n",
    "checkboxs = WebDriverWait(driver, 10).until(\n",
    "    EC.element_to_be_clickable((By.NAME, 'order[delivery_data][recipient_is_customer]')))\n",
    "\n",
    "# print(checkboxs)\n",
    "# if checkboxs.get_attribute:\n",
    "#     print(\"find checkbox\")\n",
    "#     for checkbox in checkboxs:\n",
    "#         checkbox.click()\n",
    "# else:\n",
    "#     print(\"qqq\")\n",
    "# # TODO 結帳時打開\n",
    "# # Final order\n",
    "# driver.find_element(\"xpath\", '//*[@id=\"place-order-recaptcha\"]/span[1]').click()\n",
    "# final = WebDriverWait(driver,10).until(EC.element_to_be_clickable((By.ID,\"place-order-recaptcha\")))\n",
    "# final.click()\n",
    "# print(\"購買完成!!!!\")"
   ]
  }
 ],
 "metadata": {
  "kernelspec": {
   "display_name": "yoloV4",
   "language": "python",
   "name": "python3"
  },
  "language_info": {
   "codemirror_mode": {
    "name": "ipython",
    "version": 3
   },
   "file_extension": ".py",
   "mimetype": "text/x-python",
   "name": "python",
   "nbconvert_exporter": "python",
   "pygments_lexer": "ipython3",
   "version": "3.9.15 (main, Nov  4 2022, 16:13:54) \n[GCC 11.2.0]"
  },
  "orig_nbformat": 4,
  "vscode": {
   "interpreter": {
    "hash": "54e5817d351ae5ce3f35b114a01b54515a23947ab9572f2654c128a87fb8a9f5"
   }
  }
 },
 "nbformat": 4,
 "nbformat_minor": 2
}
